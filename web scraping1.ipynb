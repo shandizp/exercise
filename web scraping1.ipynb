{
 "cells": [
  {
   "cell_type": "code",
   "execution_count": 14,
   "id": "2d18a6ad",
   "metadata": {
    "scrolled": true
   },
   "outputs": [
    {
     "name": "stdout",
     "output_type": "stream",
     "text": [
      "ماشین شارژی  خارجی\n",
      "\n",
      "                                                            \n",
      "مدل\n",
      "جیپ SS-813\n",
      "\n",
      "\n",
      "94400000\n",
      "it is time to buy!\n"
     ]
    }
   ],
   "source": [
    "import requests\n",
    "from bs4 import BeautifulSoup\n",
    "import re\n",
    "\n",
    "regex = r\"\\d\"\n",
    "url='https://www.zanbil.ir/product/40050/73439/%D9%85%D8%A7%D8%B4%DB%8C%D9%86-%D8%B4%D8%A7%D8%B1%DA%98%DB%8C-%D8%AE%D8%A7%D8%B1%D8%AC%DB%8C-%D9%85%D8%AF%D9%84-%D8%AC%DB%8C%D9%BE-SS-813'\n",
    "headers={'user-agent':'Mozilla/5.0 (Windows NT 10.0; Win64; x64) AppleWebKit/537.36 (KHTML, like Gecko) Chrome/100.0.4896.127 Safari/537.36'}\n",
    "\n",
    "#def priceLimit():\n",
    "    \n",
    "page=requests.get(url, headers=headers)\n",
    "\n",
    "\n",
    "soup=BeautifulSoup(page.content,'html.parser')\n",
    "\n",
    "title=soup.find('p',attrs={'class':\"font-koodak\"}).get_text()\n",
    "\n",
    "\n",
    "price=soup.find('span',attrs={'class':\"current\"}).get_text()\n",
    "\n",
    "print(title)\n",
    "matches = re.finditer(regex, price, re.MULTILINE)\n",
    "priceEn=''\n",
    "for matchNum, match in enumerate(matches, start=1):\n",
    "    priceEn+=str(match.group())\n",
    "print(priceEn) \n",
    "if int(priceEn)<9000000000:\n",
    "    print( 'it is time to buy!')\n",
    "\n",
    "\n"
   ]
  },
  {
   "cell_type": "code",
   "execution_count": 30,
   "id": "f464a69e",
   "metadata": {},
   "outputs": [],
   "source": []
  },
  {
   "cell_type": "code",
   "execution_count": null,
   "id": "e62ae7d3",
   "metadata": {},
   "outputs": [],
   "source": []
  },
  {
   "cell_type": "code",
   "execution_count": null,
   "id": "2214a9b7",
   "metadata": {},
   "outputs": [],
   "source": []
  },
  {
   "cell_type": "code",
   "execution_count": null,
   "id": "13d161ba",
   "metadata": {},
   "outputs": [],
   "source": []
  },
  {
   "cell_type": "code",
   "execution_count": null,
   "id": "88824b14",
   "metadata": {},
   "outputs": [],
   "source": []
  },
  {
   "cell_type": "code",
   "execution_count": null,
   "id": "9c9fa9ce",
   "metadata": {},
   "outputs": [],
   "source": []
  }
 ],
 "metadata": {
  "kernelspec": {
   "display_name": "Python 3",
   "language": "python",
   "name": "python3"
  },
  "language_info": {
   "codemirror_mode": {
    "name": "ipython",
    "version": 3
   },
   "file_extension": ".py",
   "mimetype": "text/x-python",
   "name": "python",
   "nbconvert_exporter": "python",
   "pygments_lexer": "ipython3",
   "version": "3.9.1"
  }
 },
 "nbformat": 4,
 "nbformat_minor": 5
}
